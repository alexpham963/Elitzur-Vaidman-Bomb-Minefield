{
 "cells": [
  {
   "cell_type": "code",
   "execution_count": 2,
   "id": "2d7650a5-b2de-4564-8a10-fe68f92a5971",
   "metadata": {},
   "outputs": [
    {
     "name": "stderr",
     "output_type": "stream",
     "text": [
      "ibmqfactory.load_account:WARNING:2022-10-24 02:08:14,549: Credentials are already in use. The existing account in the session will be replaced.\n"
     ]
    }
   ],
   "source": [
    "import numpy as np\n",
    "\n",
    "# Importing standard Qiskit libraries\n",
    "from qiskit import QuantumCircuit, transpile, Aer, IBMQ\n",
    "from qiskit.tools.jupyter import *\n",
    "from qiskit.visualization import *\n",
    "from ibm_quantum_widgets import *\n",
    "from qiskit.providers.aer import QasmSimulator\n",
    "\n",
    "# Loading your IBM Quantum account(s)\n",
    "provider = IBMQ.load_account()"
   ]
  },
  {
   "cell_type": "code",
   "execution_count": 3,
   "id": "658de90c-68b0-4f4e-96c6-916cbb8ad72b",
   "metadata": {},
   "outputs": [
    {
     "name": "stdout",
     "output_type": "stream",
     "text": [
      "Collecting pyfiglet\n",
      "  Using cached pyfiglet-0.8.post1-py2.py3-none-any.whl (865 kB)\n",
      "Installing collected packages: pyfiglet\n",
      "Successfully installed pyfiglet-0.8.post1\n"
     ]
    }
   ],
   "source": [
    "!pip install pyfiglet"
   ]
  },
  {
   "cell_type": "code",
   "execution_count": null,
   "id": "dc1fa0f1-61ca-4976-b717-b80dd2c73aa8",
   "metadata": {},
   "outputs": [
    {
     "name": "stderr",
     "output_type": "stream",
     "text": [
      "ibmqfactory.load_account:WARNING:2022-10-24 02:09:04,205: Credentials are already in use. The existing account in the session will be replaced.\n"
     ]
    },
    {
     "name": "stdout",
     "output_type": "stream",
     "text": [
      "__        __   _                            _          _   _          \n",
      "\\ \\      / /__| | ___ ___  _ __ ___   ___  | |_ ___   | |_| |__   ___ \n",
      " \\ \\ /\\ / / _ \\ |/ __/ _ \\| '_ ` _ \\ / _ \\ | __/ _ \\  | __| '_ \\ / _ \\\n",
      "  \\ V  V /  __/ | (_| (_) | | | | | |  __/ | || (_) | | |_| | | |  __/\n",
      "   \\_/\\_/ \\___|_|\\___\\___/|_| |_| |_|\\___|  \\__\\___/   \\__|_| |_|\\___|\n",
      "                                                                      \n",
      " _____ _ _ _                    __     __    _     _                       \n",
      "| ____| (_) |_ _____   _ _ __   \\ \\   / /_ _(_) __| |_ __ ___   __ _ _ __  \n",
      "|  _| | | | __|_  / | | | '__|___\\ \\ / / _` | |/ _` | '_ ` _ \\ / _` | '_ \\ \n",
      "| |___| | | |_ / /| |_| | | |_____\\ V / (_| | | (_| | | | | | | (_| | | | |\n",
      "|_____|_|_|\\__/___|\\__,_|_|        \\_/ \\__,_|_|\\__,_|_| |_| |_|\\__,_|_| |_|\n",
      "                                                                           \n",
      " ____                  _     \n",
      "| __ )  ___  _ __ ___ | |__  \n",
      "|  _ \\ / _ \\| '_ ` _ \\| '_ \\ \n",
      "| |_) | (_) | | | | | | |_) |\n",
      "|____/ \\___/|_| |_| |_|_.__/ \n",
      "                             \n",
      " __  __ ___ _   _ _____ _____ ___ _____ _     ____  _ \n",
      "|  \\/  |_ _| \\ | | ____|  ___|_ _| ____| |   |  _ \\| |\n",
      "| |\\/| || ||  \\| |  _| | |_   | ||  _| | |   | | | | |\n",
      "| |  | || || |\\  | |___|  _|  | || |___| |___| |_| |_|\n",
      "|_|  |_|___|_| \\_|_____|_|   |___|_____|_____|____/(_)\n",
      "                                                      \n",
      "\n",
      "THERE ARE 8 MINES IN THE FIELD!!!\n",
      "We need your help to disarm all the live bombs!\n",
      "Only 4 of the mines are live. The rest are duds.\n",
      "\n",
      "You have a limited amount of time you can disarm the bombs. So choose wisely!\n",
      "Current disarmed amount: 4 \n",
      "\n",
      "If there are any live bombs left after you disarm all the bombs, the bomb will explode!\n",
      "In order to disarm the bomb, we have to identify which mines are live and which are duds.\n",
      "Using the latest technology, in quantum mechanics, we can put each bomb in our own quantum detector and measure it.\n",
      "To the detector!\n"
     ]
    },
    {
     "name": "stdout",
     "output_type": "stream",
     "text": [
      "\n",
      "Press Enter to continue... \n"
     ]
    },
    {
     "name": "stdout",
     "output_type": "stream",
     "text": [
      "                                                                                 _    \n",
      "                                                                                / \\   \n",
      "                                                                               / _ \\  \n",
      "                                                                              / ___ \\ \n",
      "                                                                             /_/   \\_\\\n",
      "                                                                                      \n",
      "                                                   __                              __  ____  \n",
      "                                                  / /                             / / | __ ) \n",
      "                                                 / /____ _____ _____ _____ _____ / /  |  _ \\ \n",
      "                                                / /_____|_____|_____|_____|_____/ /   | |_) |\n",
      "                                               /_/                             /_/    |____/ \n",
      "                                                                                             \n",
      "                                                _                               _ \n",
      "                                               | |                             | |\n",
      "                                               | |                             | |\n",
      "                                               | |                             | |\n",
      "                                               | |                             | |\n",
      "                                               |_|                             |_|\n",
      "                                                _                               _ \n",
      "                                               | |                             | |\n",
      "                                               | |                             | |\n",
      "                                               | |                             | |\n",
      "                                               | |                             | |\n",
      "                                               |_|                             |_|\n",
      "                                                   __        __  __             __\n",
      "                                                  / /        \\ \\/ /            / /\n",
      " _____ _____ _____ _____ _____ _____ _____ _____ / /____ _____\\  /_____ _____ / / \n",
      "|_____|_____|_____|_____|_____|_____|_____|_____/ /_____|_____/  \\_____|_____/ /  \n",
      "                                               /_/           /_/\\_\\         /_/   \n",
      "                                                                                  \n",
      "\n",
      "This is our quantum detector. We can measure the bomb in the detector if it is live or a dud.\n",
      "There is a caviet though. There is a slight chance the detector may trigger the bomb if it is live.\n",
      "In addition, we are limited to number of trials that we can measure in total.\n",
      "You have 100 trials to measure the bombs.\n",
      "\n",
      "The higher the number of trials used, the more accurate the results will be, and less likely to trigger the bomb if it is live.\n"
     ]
    },
    {
     "name": "stdout",
     "output_type": "stream",
     "text": [
      "\n",
      "Press Enter to continue... \n"
     ]
    },
    {
     "name": "stdout",
     "output_type": "stream",
     "text": [
      "\n",
      "This is the minefield. Each tile is represented by a 0 and bombs are represented by a X.\n",
      "The number list from 1-8 represents the rows and columns.\n",
      "\n",
      "  1 2 3 4 5 6 7 8 \n",
      "1 X 0 X 0 0 0 0 0 \n",
      "2 0 X 0 0 0 0 0 0 \n",
      "3 0 X 0 0 0 0 0 0 \n",
      "4 0 0 0 0 0 0 0 0 \n",
      "5 0 0 0 X 0 0 X 0 \n",
      "6 0 0 0 0 0 0 0 0 \n",
      "7 0 0 0 0 0 0 0 0 \n",
      "8 0 X 0 X 0 0 0 0 \n",
      "\n",
      "Would you like to disarm a bomb or measure a bomb? 0 to disarm, 1 to measure.\n"
     ]
    },
    {
     "name": "stdout",
     "output_type": "stream",
     "text": [
      "Please enter a number:  1\n"
     ]
    },
    {
     "name": "stdout",
     "output_type": "stream",
     "text": [
      "\n",
      "You have chosen to measure a bomb. Please enter the coordinates of the bomb you would like to measure. If you would like to quit, enter q.\n",
      "Please enter the coordinates of the tile you want to measure.\n",
      "The coordinates are in the form of row, column.\n"
     ]
    },
    {
     "name": "stdout",
     "output_type": "stream",
     "text": [
      "Enter the row:  1\n",
      "Enter the column:  1\n"
     ]
    },
    {
     "name": "stdout",
     "output_type": "stream",
     "text": [
      "\n",
      "              A\n",
      "        /-----/ B\n",
      "        |     |\n",
      "        |     |\n",
      "--------/--X--/\n",
      "\n",
      "Trial amounts left: 100\n",
      "How many times would you like to measure the bomb?\n"
     ]
    },
    {
     "name": "stdout",
     "output_type": "stream",
     "text": [
      "Please enter a number:  10\n"
     ]
    },
    {
     "name": "stdout",
     "output_type": "stream",
     "text": [
      "Measuring...\n",
      "\n",
      "              A\n",
      "        /-----/ B\n",
      "        |     |\n",
      "        |     |\n",
      "--------/--X--/\n",
      "\n"
     ]
    }
   ],
   "source": [
    "import numpy as np\n",
    "import pyfiglet\n",
    "import matplotlib.pyplot as plt\n",
    "import qiskit_ibm_runtime\n",
    "from qiskit import (\n",
    "    QuantumCircuit,\n",
    "    QuantumRegister,\n",
    "    execute,\n",
    "    Aer, IBMQ)\n",
    "\n",
    "from qiskit.quantum_info.operators import Operator\n",
    "from qiskit_ibm_runtime import QiskitRuntimeService\n",
    "\n",
    "#QiskitRuntimeService.save_account(channel=\"ibm_quantum\", token=\"\")\n",
    "\n",
    "IBMQ.load_account()\n",
    "IBMQ.providers()\n",
    "\n",
    "# setup game parameters\n",
    "bomb_count = 8  # total amount of bombs in game (duds and armed)\n",
    "width = 8\n",
    "height = 8\n",
    "live_bomb = bomb_count/2\n",
    "pool_amount = 100\n",
    "grid = np.zeros((width, height), dtype=int)  # setup 2D grid with 0's\n",
    "current_bomb_x = 0\n",
    "current_bomb_y = 0\n",
    "disarm_amount = bomb_count/2\n",
    "# print out the ASCII detector\n",
    "\n",
    "\n",
    "def printDetectorArt():\n",
    "    print()\n",
    "    print(\"              A\")\n",
    "    print(\"        /-----/ B\")\n",
    "    print(\"        |     |\")\n",
    "    print(\"        |     |\")\n",
    "    print(\"--------/--X--/\")\n",
    "    print()\n",
    "    \n",
    "def gameover():\n",
    "    global mainGame\n",
    "    ASCII_art_1 = pyfiglet.figlet_format(\"GAME OVER, THE BOMB EXPLODED!\")\n",
    "    print(ASCII_art_1)\n",
    "    print(\"                                  ____\")\n",
    "    print(\"                          __,-~~/~    `---.\")\n",
    "    print(\"                        _/_,---(      ,    )\")\n",
    "    print(\"                    __ /        <    /   )  \\___\")\n",
    "    print(\"     - ------===;;;'====------------------===;;;===----- -  -\")\n",
    "    print(\"                       \\/  ------------------//\")\n",
    "    print(\"                       (_ (   \\  (     >    \\)\")\n",
    "    print(\"                        \\_( _ <         >_>'\")\n",
    "    print(\"                           ~ `-i' ::>|--\"\"\")\n",
    "    print(\"                               I;|.|.|\")\n",
    "    print(\"                              <|i::|i|`.\")\n",
    "    print(\"                             (` ^'--' -)\")\n",
    "    mainGame = False\n",
    "\n",
    "\n",
    "# print out game introduction\n",
    "ASCII_art_1 = pyfiglet.figlet_format(\"Welcome to the Elitzur-Vaidman Bomb MINEFIELD!\")\n",
    "print(ASCII_art_1)\n",
    "print(\"THERE ARE\", bomb_count, \"MINES IN THE FIELD!!!\")\n",
    "print(\"We need your help to disarm all the live bombs!\")\n",
    "print(\"Only 4 of the mines are live. The rest are duds.\\n\")\n",
    "print(\"You have a limited amount of time you can disarm the bombs. So choose wisely!\")\n",
    "print(\"Current disarmed amount:\", int(disarm_amount), \"\\n\")\n",
    "print(\"If there are any live bombs left after you disarm all the bombs, the bomb will explode!\")\n",
    "print(\"In order to disarm the bomb, we have to identify which mines are live and which are duds.\")\n",
    "print(\"Using the latest technology, in quantum mechanics, we can put each bomb in our own quantum detector and measure it.\")\n",
    "print(\"To the detector!\")\n",
    "inputskip = input(\"\\nPress Enter to continue...\")\n",
    "ASCII_art_1 = pyfiglet.figlet_format(\"                                                                             A\\n                                               /-----/ B\\n                                               |                             |\\n                                               |                             |\\n--------/--X--/\", width=200)\n",
    "print(ASCII_art_1)\n",
    "print(\"This is our quantum detector. We can measure the bomb in the detector if it is live or a dud.\\nThere is a caviet though. There is a slight chance the detector may trigger the bomb if it is live.\")\n",
    "print(\"In addition, we are limited to number of trials that we can measure in total.\")\n",
    "print(\"You have\", pool_amount, \"trials to measure the bombs.\\n\")\n",
    "print(\"The higher the number of trials used, the more accurate the results will be, and less likely to trigger the bomb if it is live.\")\n",
    "inputskip = input(\"\\nPress Enter to continue...\")\n",
    "\n",
    "# fill in the empty grid with bombs at random\n",
    "def fill_grid_n_bombs(bomb_count):\n",
    "    armed_bomb_count = int(bomb_count/2)  # half of the bombs will be armed\n",
    "    for i in range(armed_bomb_count):\n",
    "        # take a random coord to place the armed bomb\n",
    "        x = np.random.randint(0, width)\n",
    "        y = np.random.randint(0, height)\n",
    "        # check to see if there's a bomb already place in the square\n",
    "        if grid[x, y] == 0:\n",
    "            grid[x, y] = 1\n",
    "        else:\n",
    "            i -= 1  # go back one increment\n",
    "        # cut this cycle early, so with the decrement it just redoes the iteration\n",
    "        # take a random coord to place the dud bomb\n",
    "        x = np.random.randint(0, width)\n",
    "        y = np.random.randint(0, height)\n",
    "        if grid[x][y] == 0:\n",
    "            grid[x][y] = 2\n",
    "        else:\n",
    "            i -= 1\n",
    "fill_grid_n_bombs(bomb_count)\n",
    "\n",
    "# display the grid in it's current state\n",
    "def print_grid(width, height):\n",
    "    print(\"  \", end=\"\")\n",
    "    for i in range(width):\n",
    "        print(i + 1, end=\" \")\n",
    "    print()\n",
    "    for i in range(width):\n",
    "        print(i + 1, end=\" \")\n",
    "        for j in range(height):\n",
    "            if grid[i][j] == 1:\n",
    "                print(\"X\", end=\" \")\n",
    "            elif grid[i][j] == 2:\n",
    "                print(\"X\", end=\" \")\n",
    "            else:\n",
    "                print(\"0\", end=\" \")\n",
    "        print()\n",
    "    print()\n",
    "    # print(\"Master_Grid\")\n",
    "    # print(grid)\n",
    "\n",
    "# check if coordinates points to a bomb\n",
    "def checkCoor(rowInput, colInput):\n",
    "    value = grid[rowInput][colInput]\n",
    "    if value == 1 or value == 2:\n",
    "        # print(\"To the detector!\")\n",
    "        return True\n",
    "    else:\n",
    "        print(\"There is no bomb in this tile. Please try again.\")\n",
    "        return False\n",
    "\n",
    "# CREDITS FOR THE FUNCTION BELOW GOES TO: dwarkeshsp\n",
    "# github link: https://github.com/dwarkeshsp/quantum-bomb-tester/blob/master/Elitzur%E2%80%93Vaidman%20quantum%20bomb%20tester.ipynb\n",
    "# This is where the quantum measurement will run to test for bomb prescence\n",
    "# number of trials to determine whether bomb is predicted/explode or a dud/fake\n",
    "# 10 is inconsistent max trials; 20+ trials is more consistent for predicting bomb without exploding\n",
    "# applied rotations until you can predict the bomb\n",
    "def elitzur_vaidman(bomb, inputTrials):\n",
    "    global pool_amount\n",
    "    global mainGame;\n",
    "    rotations = inputTrials\n",
    "    e = np.pi/(2*rotations)\n",
    "    shots = 1\n",
    "    measurements = rotations + 1 if bomb else 1\n",
    "    circuit = QuantumCircuit(1, measurements)\n",
    "    rotate = Operator([[np.cos(e), -np.sin(e)], [np.sin(e), np.cos(e)]])\n",
    "    for i in range(rotations):\n",
    "        circuit.unitary(rotate, [0], label='Re')\n",
    "        if bomb:\n",
    "            circuit.measure(0, i)\n",
    "\n",
    "    circuit.measure(0, measurements - 1)\n",
    "\n",
    "    provider = IBMQ.get_provider('ibm-q')\n",
    "    backend = provider.get_backend(\"ibmq_quito\")\n",
    "    job = execute(circuit, backend, shots=shots)\n",
    "    result = job.result()\n",
    "    counts = result.get_counts(circuit)  # returns a hash map\n",
    "    predict_bomb = predict_no_bomb = blown_up = 0\n",
    "    if bomb:\n",
    "        # checks to see if there's a key in hash map\n",
    "        predict_bomb = counts['0' * measurements] if '0' * \\\n",
    "            measurements in counts else 0\n",
    "        zeros_one = '0' * (predict_no_bomb - 1) + '1'\n",
    "        predict_no_bomb = counts[zeros_one] if zeros_one in counts else 0\n",
    "        blown_up = shots - predict_bomb - predict_no_bomb\n",
    "    else:\n",
    "        predict_bomb = counts['0'] if '0' in counts else 0\n",
    "        predict_no_bomb = counts['1']\n",
    "        blown_up = 0\n",
    "    y_pos = np.arange(3)\n",
    "    plt.bar(y_pos, [predict_bomb, predict_no_bomb, blown_up])\n",
    "    plt.xticks(y_pos, ['Predicts bomb', 'Predicts no bomb', 'Blown up'])\n",
    "    plt.ylabel('Trials')\n",
    "    plt.title('Elitzur-Vaidman results')\n",
    "    plt.show()\n",
    "    print(\"Bomb coordinates: Row:\", current_bomb_x + 1, \"Col:\", current_bomb_y + 1)\n",
    "    print(\"Predicted bomb:\", predict_bomb)\n",
    "    print(\"Predicted no bomb:\", predict_no_bomb)\n",
    "    print(\"Blown up:\", blown_up)\n",
    "    if blown_up == 1:\n",
    "        gameover()\n",
    "\n",
    "def detector(rowInput, colInput):\n",
    "    global pool_amount\n",
    "    printDetectorArt()\n",
    "    print(\"Trial amounts left:\", pool_amount)\n",
    "    print(\"How many times would you like to measure the bomb?\")\n",
    "    trial_input = input(\"Please enter a number: \")\n",
    "    while (not trial_input.isdigit()) or int(trial_input) > pool_amount:\n",
    "        if trial_input.isdigit() and int(trial_input) > pool_amount:\n",
    "            print(\"You have exceeded the number of trials you can do. Please try again.\")\n",
    "        trial_input = input(\"Please enter a number: \")\n",
    "    trial_input = int(trial_input)\n",
    "    pool_amount = pool_amount - trial_input\n",
    "    print(\"Measuring...\")\n",
    "    printDetectorArt()\n",
    "    if grid[rowInput][colInput] == 1:\n",
    "        bomb = True\n",
    "        elitzur_vaidman(bomb, trial_input)\n",
    "    elif grid[rowInput][colInput] == 2:\n",
    "        bomb = False\n",
    "        elitzur_vaidman(bomb, trial_input)\n",
    "    \n",
    "def disarm(rowInput, colInput):\n",
    "    global live_bomb\n",
    "    global disarm_amount\n",
    "    if grid[rowInput][colInput] == 1:\n",
    "        live_bomb -= 1\n",
    "    grid[rowInput][colInput] = 0\n",
    "    disarm_amount -= 1\n",
    "    print(\"\\nYou have disarmed the bomb!\")\n",
    "    print(\"Bombs left to disarm:\", int(disarm_amount))\n",
    "    \n",
    "mainGame = True  # variable the shows whether the game is still active or not\n",
    "# ask player which tile they want to measure with coord input\n",
    "while mainGame:\n",
    "    print(\"\\nThis is the minefield. Each tile is represented by a 0 and bombs are represented by a X.\")\n",
    "    print(\"The number list from 1-8 represents the rows and columns.\\n\")\n",
    "    print_grid(width, height)\n",
    "    print(\"Would you like to disarm a bomb or measure a bomb? 0 to disarm, 1 to measure.\")\n",
    "    choice = input(\"Please enter a number: \")\n",
    "    print()\n",
    "    while choice.isdigit() == False:\n",
    "        choice = input(\"Please enter a valid number: \")\n",
    "    if (choice == \"1\"):\n",
    "        print(\"You have chosen to measure a bomb. Please enter the coordinates of the bomb you would like to measure. If you would like to quit, enter q.\")\n",
    "        print(\"Please enter the coordinates of the tile you want to measure.\")\n",
    "        print(\"The coordinates are in the form of row, column.\")\n",
    "        rowInput = input(\"Enter the row: \")\n",
    "        if rowInput == \"q\":\n",
    "            continue\n",
    "        # if the input is not a number, then it will ask for the input again\n",
    "        while rowInput.isdigit() == False:\n",
    "            rowInput = input(\"Please enter a valid row: \")\n",
    "        colInput = input(\"Enter the column: \")\n",
    "        if colInput == \"q\":\n",
    "            continue\n",
    "        while colInput.isdigit() == False:\n",
    "            colInput = input(\"Please enter a valid column: \")\n",
    "        rowInput = int(rowInput) - 1\n",
    "        colInput = int(colInput) - 1\n",
    "        current_bomb_x = rowInput\n",
    "        current_bomb_y = colInput\n",
    "        if checkCoor(rowInput, colInput) == False:\n",
    "            # jump back to the beginning of the loop\n",
    "            print(\"Please try again. The coordinates you entered does not have a bomb.\")\n",
    "            continue\n",
    "        if pool_amount > 0:\n",
    "            detector(rowInput, colInput)\n",
    "            if mainGame == False:\n",
    "                break\n",
    "            skip = input(\"Press enter to continue.\")\n",
    "        else:\n",
    "            print(\n",
    "                \"You have exceeded the number of trials. The guessing begins! Good luck!\")\n",
    "    elif (choice == \"0\"):\n",
    "        print(\"You have chosen to disarm a bomb. Please enter the coordinates of the tile you want to disarm. If you want to quit, enter q.\")\n",
    "        print(\"Please enter the coordinates of the tile you want to measure.\")\n",
    "        print(\"The coordinates are in the form of row, column.\")\n",
    "        rowInput = input(\"Enter the row: \")\n",
    "        if rowInput == \"q\":\n",
    "            continue\n",
    "        # if the input is not a number, then it will ask for the input again\n",
    "        while rowInput.isdigit() == False:\n",
    "            rowInput = input(\"Please enter a valid row: \")\n",
    "        colInput = input(\"Enter the column: \")\n",
    "        if colInput == \"q\":\n",
    "            continue\n",
    "        while colInput.isdigit() == False:\n",
    "            colInput = input(\"Please enter a valid column: \")\n",
    "        rowInput = int(rowInput) - 1\n",
    "        colInput = int(colInput) - 1\n",
    "        current_bomb_x = rowInput\n",
    "        current_bomb_y = colInput\n",
    "        if checkCoor(rowInput, colInput) == False:\n",
    "            # jump back to the beginning of the loop\n",
    "            print(\"Please try again. The coordinates you entered does not have a bomb.\")\n",
    "            continue\n",
    "        disarm(rowInput, colInput)\n",
    "        if disarm_amount == 0 and live_bomb > 0:\n",
    "            print(\"You have used up all your disarming attempts. But there were some live bombs left. You lose!\")\n",
    "            gameover()\n",
    "            break\n",
    "        print(\"Please enter to continue.\")\n",
    "    \n",
    "    if (live_bomb == 0):\n",
    "        ASCII_art_2 = pyfiglet.figlet_format(\"CONGRATULATIONS! YOU HAVE DISARMED ALL THE BOMBS HERO!\", font=\"slant\")\n",
    "        print(ASCII_art_2)\n",
    "        mainGame = False\n"
   ]
  },
  {
   "cell_type": "code",
   "execution_count": null,
   "id": "f8b5319a-7a2a-462c-b7a4-4d72bbbf8728",
   "metadata": {},
   "outputs": [],
   "source": []
  }
 ],
 "metadata": {
  "kernelspec": {
   "display_name": "Python 3.8.10 64-bit",
   "language": "python",
   "name": "python3"
  },
  "language_info": {
   "codemirror_mode": {
    "name": "ipython",
    "version": 3
   },
   "file_extension": ".py",
   "mimetype": "text/x-python",
   "name": "python",
   "nbconvert_exporter": "python",
   "pygments_lexer": "ipython3",
   "version": "3.8.10"
  },
  "vscode": {
   "interpreter": {
    "hash": "916dbcbb3f70747c44a77c7bcd40155683ae19c65e1c03b4aa3499c5328201f1"
   }
  },
  "widgets": {
   "application/vnd.jupyter.widget-state+json": {
    "state": {
     "0e37dee240e846f19be96f81d3394467": {
      "model_module": "@jupyter-widgets/base",
      "model_module_version": "1.2.0",
      "model_name": "LayoutModel",
      "state": {
       "width": "95px"
      }
     },
     "124bfde7eb0248d48f3e0660be9e9b90": {
      "model_module": "@jupyter-widgets/controls",
      "model_module_version": "1.5.0",
      "model_name": "HTMLModel",
      "state": {
       "layout": "IPY_MODEL_7147c9a62b3a45ca80a61df01380828c",
       "style": "IPY_MODEL_c47e6d2bbcea479a9be82729e66d4896",
       "value": "<p style='font-family: IBM Plex Sans, Arial, Helvetica, sans-serif; font-size: 20px; font-weight: medium;'>Circuit Properties</p>"
      }
     },
     "16f81a05d57941feba094eeb99bb61a7": {
      "model_module": "@jupyter-widgets/base",
      "model_module_version": "1.2.0",
      "model_name": "LayoutModel",
      "state": {
       "width": "95px"
      }
     },
     "1abf38b1a5ca4b0d9ca95becb2bfa077": {
      "model_module": "@jupyter-widgets/controls",
      "model_module_version": "1.5.0",
      "model_name": "DescriptionStyleModel",
      "state": {
       "description_width": ""
      }
     },
     "2185abac09a948569af7909e3d049b24": {
      "model_module": "@jupyter-widgets/controls",
      "model_module_version": "1.5.0",
      "model_name": "HTMLModel",
      "state": {
       "layout": "IPY_MODEL_3981ecc926a049ebab4b28e592832e4d",
       "style": "IPY_MODEL_1abf38b1a5ca4b0d9ca95becb2bfa077",
       "value": "6"
      }
     },
     "2e15c9194aed4535ad54aef01fa81fe1": {
      "model_module": "@jupyter-widgets/base",
      "model_module_version": "1.2.0",
      "model_name": "LayoutModel",
      "state": {
       "grid_area": "right",
       "padding": "0px 0px 0px 0px",
       "width": "70px"
      }
     },
     "2f36ec7dcb564bf3884a878209c19ccd": {
      "model_module": "@jupyter-widgets/controls",
      "model_module_version": "1.5.0",
      "model_name": "ButtonStyleModel",
      "state": {}
     },
     "2f9cf1184be34958bbd260693fc63e50": {
      "model_module": "@jupyter-widgets/base",
      "model_module_version": "1.2.0",
      "model_name": "LayoutModel",
      "state": {
       "grid_template_areas": "\n                                       \". . . . right \"\n                                        ",
       "grid_template_columns": "20% 20% 20% 20% 20%",
       "width": "100%"
      }
     },
     "2fda1a4daedc492fabfd9aeb25538fa4": {
      "model_module": "@jupyter-widgets/controls",
      "model_module_version": "1.5.0",
      "model_name": "HBoxModel",
      "state": {
       "children": [
        "IPY_MODEL_6e243e640f0c4af9827dfa319da7b8d9",
        "IPY_MODEL_9e3c3f4504c0468d88ff455b2cf7980b",
        "IPY_MODEL_c39e37e2731f4d81b8f7c85923342f2c",
        "IPY_MODEL_c9f7d094ee7047ec97ed52a57aef6a6a",
        "IPY_MODEL_2185abac09a948569af7909e3d049b24",
        "IPY_MODEL_9ef72f8f842a4614824960abbbb28ea6"
       ],
       "layout": "IPY_MODEL_40d44c7885e34d9689ba040f63e48808"
      }
     },
     "344d1aa663ef4b43ad5d78b1e6002e07": {
      "model_module": "@jupyter-widgets/controls",
      "model_module_version": "1.5.0",
      "model_name": "DescriptionStyleModel",
      "state": {
       "description_width": ""
      }
     },
     "3981ecc926a049ebab4b28e592832e4d": {
      "model_module": "@jupyter-widgets/base",
      "model_module_version": "1.2.0",
      "model_name": "LayoutModel",
      "state": {
       "width": "70px"
      }
     },
     "3a40ad34ff5146b0a152266a1851d7ea": {
      "model_module": "@jupyter-widgets/controls",
      "model_module_version": "1.5.0",
      "model_name": "DescriptionStyleModel",
      "state": {
       "description_width": ""
      }
     },
     "3d1960bf086447d4b4705feb60022f90": {
      "model_module": "@jupyter-widgets/base",
      "model_module_version": "1.2.0",
      "model_name": "LayoutModel",
      "state": {}
     },
     "3eaf44b4f9b84897b91a52db58d4bd60": {
      "model_module": "@jupyter-widgets/controls",
      "model_module_version": "1.5.0",
      "model_name": "HTMLModel",
      "state": {
       "layout": "IPY_MODEL_c30b31434c5c42e696838925cd902cab",
       "style": "IPY_MODEL_a279695b0de34ad790f5555bedd866b9",
       "value": "<h5>Job ID</h5>"
      }
     },
     "40d44c7885e34d9689ba040f63e48808": {
      "model_module": "@jupyter-widgets/base",
      "model_module_version": "1.2.0",
      "model_name": "LayoutModel",
      "state": {
       "max_width": "700px",
       "min_width": "700px"
      }
     },
     "43dff2f56c534134ba6734a54a222731": {
      "model_module": "@jupyter-widgets/base",
      "model_module_version": "1.2.0",
      "model_name": "LayoutModel",
      "state": {
       "overflow_x": "scroll"
      }
     },
     "47d55137ca824f40903050627cdbf0a7": {
      "model_module": "@jupyter-widgets/controls",
      "model_module_version": "1.5.0",
      "model_name": "DescriptionStyleModel",
      "state": {
       "description_width": ""
      }
     },
     "49c451143d404cedbb87b72453f16677": {
      "model_module": "@jupyter-widgets/controls",
      "model_module_version": "1.5.0",
      "model_name": "GridBoxModel",
      "state": {
       "children": [
        "IPY_MODEL_6a4094a05486418a8f808820272ab1cb"
       ],
       "layout": "IPY_MODEL_2f9cf1184be34958bbd260693fc63e50"
      }
     },
     "523bb69c91b546a4ad7b3d5c58ed44cf": {
      "model_module": "@jupyter-widgets/base",
      "model_module_version": "1.2.0",
      "model_name": "LayoutModel",
      "state": {
       "width": "70px"
      }
     },
     "5c7aaa661e9b403e8fd3820f66b19716": {
      "model_module": "@jupyter-widgets/base",
      "model_module_version": "1.2.0",
      "model_name": "LayoutModel",
      "state": {
       "width": "190px"
      }
     },
     "61903fc5a13441ba97edc9965d2630d0": {
      "model_module": "@jupyter-widgets/controls",
      "model_module_version": "1.5.0",
      "model_name": "ButtonStyleModel",
      "state": {
       "button_color": "white"
      }
     },
     "6a4094a05486418a8f808820272ab1cb": {
      "model_module": "@jupyter-widgets/controls",
      "model_module_version": "1.5.0",
      "model_name": "ButtonModel",
      "state": {
       "button_style": "primary",
       "description": "Clear",
       "layout": "IPY_MODEL_2e15c9194aed4535ad54aef01fa81fe1",
       "style": "IPY_MODEL_2f36ec7dcb564bf3884a878209c19ccd"
      }
     },
     "6df3420a511543f3911bba23655af135": {
      "model_module": "@jupyter-widgets/base",
      "model_module_version": "1.2.0",
      "model_name": "LayoutModel",
      "state": {
       "margin": "0px 5px 0px 0px",
       "width": "32px"
      }
     },
     "6e243e640f0c4af9827dfa319da7b8d9": {
      "model_module": "@jupyter-widgets/controls",
      "model_module_version": "1.5.0",
      "model_name": "ButtonModel",
      "state": {
       "icon": "close",
       "layout": "IPY_MODEL_6df3420a511543f3911bba23655af135",
       "style": "IPY_MODEL_61903fc5a13441ba97edc9965d2630d0"
      }
     },
     "7147c9a62b3a45ca80a61df01380828c": {
      "model_module": "@jupyter-widgets/base",
      "model_module_version": "1.2.0",
      "model_name": "LayoutModel",
      "state": {
       "margin": "0px 0px 10px 0px"
      }
     },
     "86313e316aad4b4d90633915a3a25b0f": {
      "model_module": "@jupyter-widgets/controls",
      "model_module_version": "1.5.0",
      "model_name": "DescriptionStyleModel",
      "state": {
       "description_width": ""
      }
     },
     "9ce095e47b924cdf8023f28d1df06840": {
      "model_module": "@jupyter-widgets/controls",
      "model_module_version": "1.5.0",
      "model_name": "HTMLModel",
      "state": {
       "layout": "IPY_MODEL_bb65684d59654eaa8182abc85f672655",
       "style": "IPY_MODEL_c4f50a2a97794ca8a51acdb2a1595480",
       "value": "<h5>Backend</h5>"
      }
     },
     "9e3c3f4504c0468d88ff455b2cf7980b": {
      "model_module": "@jupyter-widgets/controls",
      "model_module_version": "1.5.0",
      "model_name": "HTMLModel",
      "state": {
       "layout": "IPY_MODEL_5c7aaa661e9b403e8fd3820f66b19716",
       "style": "IPY_MODEL_3a40ad34ff5146b0a152266a1851d7ea",
       "value": "6355f3db708bc47280f02d49"
      }
     },
     "9ef72f8f842a4614824960abbbb28ea6": {
      "model_module": "@jupyter-widgets/controls",
      "model_module_version": "1.5.0",
      "model_name": "HTMLModel",
      "state": {
       "layout": "IPY_MODEL_43dff2f56c534134ba6734a54a222731",
       "style": "IPY_MODEL_344d1aa663ef4b43ad5d78b1e6002e07",
       "value": "job is queued"
      }
     },
     "a0e6c307865c4f778e9a38fa2af520c6": {
      "model_module": "@jupyter-widgets/controls",
      "model_module_version": "1.5.0",
      "model_name": "DescriptionStyleModel",
      "state": {
       "description_width": ""
      }
     },
     "a279695b0de34ad790f5555bedd866b9": {
      "model_module": "@jupyter-widgets/controls",
      "model_module_version": "1.5.0",
      "model_name": "DescriptionStyleModel",
      "state": {
       "description_width": ""
      }
     },
     "b18250c39a034dd99a0d4951d7d058af": {
      "model_module": "@jupyter-widgets/controls",
      "model_module_version": "1.5.0",
      "model_name": "DescriptionStyleModel",
      "state": {
       "description_width": ""
      }
     },
     "ba45d8c5d4fb480f8eebc78e26ab0847": {
      "model_module": "@jupyter-widgets/controls",
      "model_module_version": "1.5.0",
      "model_name": "HBoxModel",
      "state": {
       "children": [
        "IPY_MODEL_3eaf44b4f9b84897b91a52db58d4bd60",
        "IPY_MODEL_9ce095e47b924cdf8023f28d1df06840",
        "IPY_MODEL_c18efe435c344e35892a77309573121e",
        "IPY_MODEL_d05c23faa3db40428c2d51558ba83b01",
        "IPY_MODEL_df5e0cb5a5a34d3eb7ccbbe924617c09"
       ],
       "layout": "IPY_MODEL_e23cd94f7beb4d4bba4c6846decf8dce"
      }
     },
     "bb65684d59654eaa8182abc85f672655": {
      "model_module": "@jupyter-widgets/base",
      "model_module_version": "1.2.0",
      "model_name": "LayoutModel",
      "state": {
       "width": "145px"
      }
     },
     "c18efe435c344e35892a77309573121e": {
      "model_module": "@jupyter-widgets/controls",
      "model_module_version": "1.5.0",
      "model_name": "HTMLModel",
      "state": {
       "layout": "IPY_MODEL_16f81a05d57941feba094eeb99bb61a7",
       "style": "IPY_MODEL_a0e6c307865c4f778e9a38fa2af520c6",
       "value": "<h5>Status</h5>"
      }
     },
     "c30b31434c5c42e696838925cd902cab": {
      "model_module": "@jupyter-widgets/base",
      "model_module_version": "1.2.0",
      "model_name": "LayoutModel",
      "state": {
       "width": "190px"
      }
     },
     "c39e37e2731f4d81b8f7c85923342f2c": {
      "model_module": "@jupyter-widgets/controls",
      "model_module_version": "1.5.0",
      "model_name": "HTMLModel",
      "state": {
       "layout": "IPY_MODEL_c82a70b2122745a08438fc90d12f1656",
       "style": "IPY_MODEL_86313e316aad4b4d90633915a3a25b0f",
       "value": "ibmq_quito"
      }
     },
     "c47e6d2bbcea479a9be82729e66d4896": {
      "model_module": "@jupyter-widgets/controls",
      "model_module_version": "1.5.0",
      "model_name": "DescriptionStyleModel",
      "state": {
       "description_width": ""
      }
     },
     "c4f50a2a97794ca8a51acdb2a1595480": {
      "model_module": "@jupyter-widgets/controls",
      "model_module_version": "1.5.0",
      "model_name": "DescriptionStyleModel",
      "state": {
       "description_width": ""
      }
     },
     "c82a70b2122745a08438fc90d12f1656": {
      "model_module": "@jupyter-widgets/base",
      "model_module_version": "1.2.0",
      "model_name": "LayoutModel",
      "state": {
       "width": "145px"
      }
     },
     "c9f7d094ee7047ec97ed52a57aef6a6a": {
      "model_module": "@jupyter-widgets/controls",
      "model_module_version": "1.5.0",
      "model_name": "HTMLModel",
      "state": {
       "layout": "IPY_MODEL_0e37dee240e846f19be96f81d3394467",
       "style": "IPY_MODEL_b18250c39a034dd99a0d4951d7d058af",
       "value": "QUEUED"
      }
     },
     "d05c23faa3db40428c2d51558ba83b01": {
      "model_module": "@jupyter-widgets/controls",
      "model_module_version": "1.5.0",
      "model_name": "HTMLModel",
      "state": {
       "layout": "IPY_MODEL_523bb69c91b546a4ad7b3d5c58ed44cf",
       "style": "IPY_MODEL_47d55137ca824f40903050627cdbf0a7",
       "value": "<h5>Queue</h5>"
      }
     },
     "df5e0cb5a5a34d3eb7ccbbe924617c09": {
      "model_module": "@jupyter-widgets/controls",
      "model_module_version": "1.5.0",
      "model_name": "HTMLModel",
      "state": {
       "layout": "IPY_MODEL_3d1960bf086447d4b4705feb60022f90",
       "style": "IPY_MODEL_fe515d5d04b94a7383e0984d85d4481a",
       "value": "<h5>Message</h5>"
      }
     },
     "e23cd94f7beb4d4bba4c6846decf8dce": {
      "model_module": "@jupyter-widgets/base",
      "model_module_version": "1.2.0",
      "model_name": "LayoutModel",
      "state": {
       "margin": "0px 0px 0px 37px",
       "width": "600px"
      }
     },
     "fe515d5d04b94a7383e0984d85d4481a": {
      "model_module": "@jupyter-widgets/controls",
      "model_module_version": "1.5.0",
      "model_name": "DescriptionStyleModel",
      "state": {
       "description_width": ""
      }
     }
    },
    "version_major": 2,
    "version_minor": 0
   }
  }
 },
 "nbformat": 4,
 "nbformat_minor": 5
}
